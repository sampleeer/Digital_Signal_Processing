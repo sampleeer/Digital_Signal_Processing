{
 "cells": [
  {
   "cell_type": "markdown",
   "metadata": {
    "id": "3yORiCNvXU5V"
   },
   "source": [
    "#Обратное преобразование Фурье. Явление Гиббса"
   ]
  },
  {
   "cell_type": "markdown",
   "metadata": {
    "id": "mH5xJoa0G4RY"
   },
   "source": [
    "Импортируем нужные библиотеки"
   ]
  },
  {
   "cell_type": "code",
   "execution_count": 2,
   "metadata": {
    "executionInfo": {
     "elapsed": 1461,
     "status": "ok",
     "timestamp": 1711188496628,
     "user": {
      "displayName": "Оля Дунаева",
      "userId": "14179385312416715050"
     },
     "user_tz": -180
    },
    "id": "1iNaPsATHpXq"
   },
   "outputs": [],
   "source": [
    "import numpy as np\n",
    "import matplotlib.pyplot as plt\n",
    "\n",
    "from scipy.fft import fft\n",
    "from scipy import signal\n",
    "from scipy.io import wavfile"
   ]
  },
  {
   "cell_type": "markdown",
   "metadata": {
    "id": "-iK4JAHlXJr1"
   },
   "source": [
    "###Модуль scipy.fft (fftpack устарел, НЕ используйте) содержит следующие функции:\n",
    "\n",
    "fft(x[, n, axis, overwrite_x])\tПрямое БПФ\n",
    "\n",
    "ifft(x[, n, axis, overwrite_x])\tОбратное БПФ\n",
    "\n",
    "fft2(x[, shape, axes, overwrite_x])\tДвумерное прямое БПФ\n",
    "\n",
    "ifft2(x[, shape, axes, overwrite_x])\tДвумерное обратное БПФ\n",
    "\n",
    "fft2(x[, shape, axes, overwrite_x])\tМногомерное прямое БПФ\n",
    "\n",
    "ifft2(x[, shape, axes, overwrite_x])\tМногомерное обратное БПФ\n",
    "\n",
    "rfft(x[, n, axis, overwrite_x])\tПрямое БПФ вещественного сигнала\n",
    "\n",
    "irfft(x[, n, axis, overwrite_x])\tОбратное БПФ вещественного сигнала\n",
    "\n",
    "dct(x[, type, n, axis, norm, overwrite_x])\tПрямое косинусное ПФ\n",
    "\n",
    "idct(x[, type, n, axis, norm, overwrite_x])\tОбратное косинусное ПФ\n",
    "\n",
    "dctn(x[, type, shape, axes, norm, overwrite_x])\tМногомерное прямое косинусное ПФ\n",
    "\n",
    "idctn(x[, type, shape, axes, norm, overwrite_x])\tМногомерное обратное косинусное БПФ\n",
    "\n",
    "dst(x[, type, n, axis, norm, overwrite_x])\tПрямое синусное ПФ\n",
    "\n",
    "idst(x[, type, n, axis, norm, overwrite_x])\tОбратное синусное ПФ\n",
    "\n",
    "dstn(x[, type, shape, axes, norm, overwrite_x])\tМногомерное прямое синусное ПФ\n",
    "\n",
    "idstn(x[, type, shape, axes, norm, overwrite_x])\tМногомерное обратное синусное БПФ"
   ]
  },
  {
   "cell_type": "code",
   "execution_count": 3,
   "metadata": {
    "executionInfo": {
     "elapsed": 20,
     "status": "ok",
     "timestamp": 1711188496629,
     "user": {
      "displayName": "Оля Дунаева",
      "userId": "14179385312416715050"
     },
     "user_tz": -180
    },
    "id": "3wvbSISlTYJQ"
   },
   "outputs": [],
   "source": [
    "from scipy.fft import rfft, ifft, irfft"
   ]
  },
  {
   "cell_type": "code",
   "execution_count": 4,
   "metadata": {
    "executionInfo": {
     "elapsed": 20,
     "status": "ok",
     "timestamp": 1711188496630,
     "user": {
      "displayName": "Оля Дунаева",
      "userId": "14179385312416715050"
     },
     "user_tz": -180
    },
    "id": "8qkEapugHav3"
   },
   "outputs": [],
   "source": [
    "T = 40\n",
    "Fd = 44100 # Частота дискретизации\n",
    "A0 = 1\n",
    "F1 = 440\n",
    "A1 = 1\n",
    "Phi1 = 90\n",
    "F2 = 30\n",
    "A2 = 0.8\n",
    "Phi2 = 0\n",
    "Anoise = 0.3\n",
    "\n",
    "N = 512*2"
   ]
  },
  {
   "cell_type": "code",
   "execution_count": 5,
   "metadata": {
    "executionInfo": {
     "elapsed": 19,
     "status": "ok",
     "timestamp": 1711188496630,
     "user": {
      "displayName": "Оля Дунаева",
      "userId": "14179385312416715050"
     },
     "user_tz": -180
    },
    "id": "wK1yKCaKGQXK"
   },
   "outputs": [],
   "source": [
    "# Создаем массив отсчетов времени\n",
    "t = np.linspace(0, T, Fd)\n",
    "\n",
    "# Создаем сигнал из двух синусоид и постоянной составляющей\n",
    "x = A1*np.sin(F1/T*2.0*np.pi*t)\n",
    "\n",
    "# Число отсчетов для построения спектра\n",
    "N = 1024*4"
   ]
  },
  {
   "cell_type": "markdown",
   "metadata": {
    "id": "RmoHpqQpvWt_"
   },
   "source": [
    "**Задание 1:**\n",
    "\n",
    "Вычислите спектр сигнала без использования оконной функции и с ее применением.\n",
    "\n",
    "Нарисуйте спектры один под другим.\n",
    "\n",
    "\n",
    "**Напишите** как влияет на спектр использование окна?"
   ]
  },
  {
   "cell_type": "code",
   "execution_count": 4,
   "metadata": {
    "executionInfo": {
     "elapsed": 20,
     "status": "ok",
     "timestamp": 1711188496632,
     "user": {
      "displayName": "Оля Дунаева",
      "userId": "14179385312416715050"
     },
     "user_tz": -180
    },
    "id": "30UWvZzLWkuN"
   },
   "outputs": [],
   "source": []
  },
  {
   "cell_type": "code",
   "execution_count": 4,
   "metadata": {
    "executionInfo": {
     "elapsed": 20,
     "status": "ok",
     "timestamp": 1711188496633,
     "user": {
      "displayName": "Оля Дунаева",
      "userId": "14179385312416715050"
     },
     "user_tz": -180
    },
    "id": "7wRV5HNtS_pv"
   },
   "outputs": [],
   "source": []
  },
  {
   "cell_type": "markdown",
   "metadata": {
    "id": "CM0dOc3GdN6A"
   },
   "source": [
    "**Задание 2:**\n",
    "\n",
    "* Выполните ОБРАТНОЕ преобраpование для двух вычисленных спектров.\n",
    "\n",
    "  Что возвращает функция **ifft**?\n",
    "\n",
    "  Как получить сам сигнал?\n",
    "\n",
    "* Постройте график сигнала и двух восстановленных (спектр без и с окнной функцией)."
   ]
  },
  {
   "cell_type": "code",
   "execution_count": 4,
   "metadata": {
    "executionInfo": {
     "elapsed": 20,
     "status": "ok",
     "timestamp": 1711188496634,
     "user": {
      "displayName": "Оля Дунаева",
      "userId": "14179385312416715050"
     },
     "user_tz": -180
    },
    "id": "UCqRZkEfT8Kf"
   },
   "outputs": [],
   "source": []
  },
  {
   "cell_type": "code",
   "execution_count": 4,
   "metadata": {
    "executionInfo": {
     "elapsed": 21,
     "status": "ok",
     "timestamp": 1711188496635,
     "user": {
      "displayName": "Оля Дунаева",
      "userId": "14179385312416715050"
     },
     "user_tz": -180
    },
    "id": "_ju286xqS_6B"
   },
   "outputs": [],
   "source": []
  },
  {
   "cell_type": "markdown",
   "metadata": {
    "id": "WQaMjIUuxRMK"
   },
   "source": [
    "Почему такой результат?\n",
    "\n",
    "Как исправить?"
   ]
  },
  {
   "cell_type": "code",
   "execution_count": 4,
   "metadata": {
    "executionInfo": {
     "elapsed": 20,
     "status": "ok",
     "timestamp": 1711188496635,
     "user": {
      "displayName": "Оля Дунаева",
      "userId": "14179385312416715050"
     },
     "user_tz": -180
    },
    "id": "Zc34ltdKh6iB"
   },
   "outputs": [],
   "source": []
  },
  {
   "cell_type": "markdown",
   "metadata": {
    "id": "Qs1miXHA6bbr"
   },
   "source": [
    "##Эффект Гиббса\n",
    "\n",
    "Смоделируем эффект, который возникает в результате **сжатия сигнала**.\n",
    "\n",
    "Построим спектр сигнала, и занулим там значения частот с маленькими апмлитудами, таким образом надо будет хранить меньше информации о сигнале.\n",
    "\n",
    "Тот же эффект возникает при замене бесконечной суммы на **частичную сумму** (начиная с какого-то отсчета слагаемые считаем пренебрежимо малыми)."
   ]
  },
  {
   "cell_type": "code",
   "execution_count": 5,
   "metadata": {
    "executionInfo": {
     "elapsed": 19,
     "status": "ok",
     "timestamp": 1711188496636,
     "user": {
      "displayName": "Оля Дунаева",
      "userId": "14179385312416715050"
     },
     "user_tz": -180
    },
    "id": "tvrkqihikWGm"
   },
   "outputs": [],
   "source": [
    "# Зададим частоту дискретизации\n",
    "Fd = 1000\n",
    "# Зададим период сигнала\n",
    "T = 2\n",
    "\n",
    "# Создаем массив отсчетов времени\n",
    "t = np.linspace(0, T, T*Fd)\n",
    "\n",
    "# Создадим сигнал в виде прямоугольного импульса\n",
    "def rectpuls(t, width):\n",
    "  x = np.zeros(t.shape)\n",
    "  x[0 : width] = 1\n",
    "  return x\n",
    "\n",
    "width = Fd//2\n",
    "rect = rectpuls(t, width)"
   ]
  },
  {
   "cell_type": "code",
   "execution_count": 6,
   "metadata": {
    "colab": {
     "base_uri": "https://localhost:8080/",
     "height": 447
    },
    "executionInfo": {
     "elapsed": 734,
     "status": "ok",
     "timestamp": 1711188497352,
     "user": {
      "displayName": "Оля Дунаева",
      "userId": "14179385312416715050"
     },
     "user_tz": -180
    },
    "id": "JiEkM2a-ky-1",
    "outputId": "f7a374f7-6bef-4b44-ef08-3cf87bf3a3cb"
   },
   "outputs": [
    {
     "data": {
      "text/plain": [
       "[<matplotlib.lines.Line2D at 0x7b388b4a2fb0>]"
      ]
     },
     "execution_count": 6,
     "metadata": {},
     "output_type": "execute_result"
    },
    {
     "data": {
      "image/png": "[encoded data removed]",
      "text/plain": [
       "<Figure size 640x480 with 1 Axes>"
      ]
     },
     "metadata": {},
     "output_type": "display_data"
    }
   ],
   "source": [
    "# Нарисуем что получилось\n",
    "plt.plot(t, rect)"
   ]
  },
  {
   "cell_type": "markdown",
   "metadata": {
    "id": "8xZ4m1vkyOKf"
   },
   "source": [
    "**Задание 3:**\n",
    "* Вычислите спектр прямоугольного сигнала. Постройте график.\n",
    "* Занулите в спектре значения меньше порога - моделируем сжатие данных для хранения. Постройте график.\n",
    "* Восстановите сигнал по его спектральным отсчетам (обратное БПФ). Постройте график."
   ]
  },
  {
   "cell_type": "code",
   "execution_count": 7,
   "metadata": {
    "executionInfo": {
     "elapsed": 12,
     "status": "ok",
     "timestamp": 1711188497353,
     "user": {
      "displayName": "Оля Дунаева",
      "userId": "14179385312416715050"
     },
     "user_tz": -180
    },
    "id": "DBPt-Xc2yKru"
   },
   "outputs": [],
   "source": [
    "# Вычислим спектр сигнала\n",
    "N = T*Fd\n"
   ]
  },
  {
   "cell_type": "code",
   "execution_count": null,
   "metadata": {
    "id": "HnoBQs2ezH8t"
   },
   "outputs": [],
   "source": [
    "# Рисование спектра\n"
   ]
  },
  {
   "cell_type": "markdown",
   "metadata": {
    "id": "QGUgcvO_zxm0"
   },
   "source": [
    "Убедитесь, что после обрезания по порогу спектр поменялся."
   ]
  },
  {
   "cell_type": "code",
   "execution_count": null,
   "metadata": {
    "id": "Spdb_eQV0fFJ"
   },
   "outputs": [],
   "source": [
    "th = 20\n"
   ]
  },
  {
   "cell_type": "markdown",
   "metadata": {
    "id": "WAoFb96K0uYX"
   },
   "source": [
    "Сравните исходный и восстановленный сигналы."
   ]
  },
  {
   "cell_type": "code",
   "execution_count": null,
   "metadata": {
    "id": "xjqL-d1H0OjD"
   },
   "outputs": [],
   "source": []
  },
  {
   "cell_type": "code",
   "execution_count": null,
   "metadata": {
    "colab": {
     "base_uri": "https://localhost:8080/",
     "height": 472
    },
    "executionInfo": {
     "elapsed": 584,
     "status": "ok",
     "timestamp": 1711187438848,
     "user": {
      "displayName": "Оля Дунаева",
      "userId": "14179385312416715050"
     },
     "user_tz": -180
    },
    "id": "Y9B8oMKayK8g",
    "outputId": "5f0f5d0f-50f9-47c7-e735-eee93e019d59"
   },
   "outputs": [
    {
     "data": {
      "text/plain": [
       "Text(0.5, 0, 'Время')"
      ]
     },
     "execution_count": 47,
     "metadata": {},
     "output_type": "execute_result"
    },
    {
     "data": {
      "image/png": "[encoded data removed]",
      "text/plain": [
       "<Figure size 640x480 with 2 Axes>"
      ]
     },
     "metadata": {},
     "output_type": "display_data"
    }
   ],
   "source": []
  },
  {
   "cell_type": "markdown",
   "metadata": {
    "id": "SLk7FHpO5wiQ"
   },
   "source": [
    "###**Сделайте выводы**\n",
    "Чем порог ниже, тем\n",
    "\n",
    "* больше/меньше данных зануляем,\n",
    "\n",
    "* сильнее/слабже сжатие\n",
    "\n",
    "* восстановленный сигнал все больше/меньше напоминает исходный"
   ]
  },
  {
   "cell_type": "markdown",
   "metadata": {
    "id": "HNSSOZ4VupBZ"
   },
   "source": [
    "##**Домашнее задание:**\n",
    "Оформить код в виде функций, почистить.\n",
    "\n",
    "Нарисовать на одном графике восстановленный сигнал при разных значениях порога."
   ]
  },
  {
   "cell_type": "code",
   "execution_count": null,
   "metadata": {
    "id": "uf-G1yaFn0so"
   },
   "outputs": [],
   "source": []
  }
 ],
 "metadata": {
  "colab": {
   "authorship_tag": "ABX9TyN/0+kR1fyewxyaHPoRI70+",
   "provenance": [
    {
     "file_id": "1utdepQLUYrEqY8DOARPnGaRgy8F9nLKl",
     "timestamp": 1711187698202
    },
    {
     "file_id": "1kJCO1ZD2ZJqYhvYy8CtEVJH8OQm2qQSE",
     "timestamp": 1711186812770
    }
   ]
  },
  "kernelspec": {
   "display_name": "Python 3 (ipykernel)",
   "language": "python",
   "name": "python3"
  },
  "language_info": {
   "codemirror_mode": {
    "name": "ipython",
    "version": 3
   },
   "file_extension": ".py",
   "mimetype": "text/x-python",
   "name": "python",
   "nbconvert_exporter": "python",
   "pygments_lexer": "ipython3",
   "version": "3.11.3"
  }
 },
 "nbformat": 4,
 "nbformat_minor": 4
}
