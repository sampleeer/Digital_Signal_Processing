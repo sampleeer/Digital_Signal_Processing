{
 "cells": [
  {
   "cell_type": "markdown",
   "metadata": {
    "id": "yosqH21gsxLE"
   },
   "source": [
    "# Знакомство с преобразованием фурье"
   ]
  },
  {
   "cell_type": "code",
   "execution_count": 11,
   "metadata": {
    "executionInfo": {
     "elapsed": 246,
     "status": "ok",
     "timestamp": 1710741085813,
     "user": {
      "displayName": "Оля Дунаева",
      "userId": "14179385312416715050"
     },
     "user_tz": -180
    },
    "id": "FCeRO9w_IExD"
   },
   "outputs": [],
   "source": [
    "import numpy as np\n",
    "import matplotlib.pyplot as plt\n",
    "\n",
    "from scipy.fft import fft, fftshift\n"
   ]
  },
  {
   "cell_type": "code",
   "execution_count": 12,
   "metadata": {
    "executionInfo": {
     "elapsed": 19,
     "status": "ok",
     "timestamp": 1710741086264,
     "user": {
      "displayName": "Оля Дунаева",
      "userId": "14179385312416715050"
     },
     "user_tz": -180
    },
    "id": "8qkEapugHav3"
   },
   "outputs": [],
   "source": [
    "T = 4\n",
    "Fd = 512 # Частота дискретизации\n",
    "A0 = 0.5\n",
    "F1 = 10\n",
    "A1 = 1\n",
    "Phi1 = 90\n",
    "F2 = 30\n",
    "A2 = 0.8\n",
    "Phi2 = 0\n",
    "Anoise = 0.3\n",
    "N = 512//2 # Число отсчетов для построения спектра"
   ]
  },
  {
   "cell_type": "code",
   "execution_count": 13,
   "metadata": {
    "editable": true,
    "executionInfo": {
     "elapsed": 14,
     "status": "ok",
     "timestamp": 1710741086265,
     "user": {
      "displayName": "Оля Дунаева",
      "userId": "14179385312416715050"
     },
     "user_tz": -180
    },
    "id": "wK1yKCaKGQXK",
    "slideshow": {
     "slide_type": ""
    },
    "tags": []
   },
   "outputs": [],
   "source": [
    "# Создаем массив отсчетов времени\n",
    "t = np.linspace(0, T, Fd*T)\n",
    "\n",
    "# Создаем сигнал из двух синусоид и постоянной составляющей\n",
    "x = A0 + A1*np.sin(F1*2.0*np.pi*t) + A2*np.sin(F2*2.0*np.pi*t+Phi2)"
   ]
  },
  {
   "cell_type": "markdown",
   "metadata": {
    "id": "c9d8ZclnGeJ8"
   },
   "source": [
    "#Построение спектра"
   ]
  },
  {
   "cell_type": "markdown",
   "metadata": {
    "id": "pjn6R4MBcWsh"
   },
   "source": [
    "1. Спектр сигнала показывает какая частота с какой амплитудой присутствует в сигнале.\n",
    "Частоты могут быть как положительные так и отрицательные.\n",
    "Алгоритм БПФ возвращает вектор значений не совсем в обычной последовательности,\n",
    "сначала идут положительные частоты [0, max], а затем отрицательные [-max, 0).\n",
    "Чтобы сделать нормальную последовательность есть метод **fftshift**.\n",
    "\n",
    "2. **Спектр вещественного сигнала** симметричный, поэтому обычно анализируют лишь положительную часть спектра.\n",
    "\n",
    "3. Результат БПФ не содержит **нормировочный коеффициент** 1/N.\n",
    "\n",
    "4. **Сила сигнала.** Амплитуда \"размазывается\" по положительным и отрицательным частотам, поэтому все значения, кроме нулевого, надо домножить на 2.\n",
    "\n",
    "5. **Исключение постоянной составляющей.**\n",
    "Прежде чем вычислять спектр сигнала необходимо из него вычесть среднее значение, в противном случае нулевая частота может иметь большое значение амплитуды и тем самым \"испортить\" соседние частоты.\n"
   ]
  },
  {
   "cell_type": "markdown",
   "metadata": {
    "id": "yjzLd613erIR"
   },
   "source": [
    "###Виды спектров\n",
    "\n",
    "* Комплексный **a+*i*b**\n",
    "* Частотный **a**\n",
    "* Фазовый   **b**\n",
    "* Амплитудный |c|=$\\sqrt{a^2+b^2}$\n",
    "* Спектр мощности ||c|| = |c|=$a^2+b^2$"
   ]
  },
  {
   "cell_type": "code",
   "execution_count": 14,
   "metadata": {
    "editable": true,
    "executionInfo": {
     "elapsed": 7,
     "status": "ok",
     "timestamp": 1710741086859,
     "user": {
      "displayName": "Оля Дунаева",
      "userId": "14179385312416715050"
     },
     "user_tz": -180
    },
    "id": "X2lEJn3Sdj8m",
    "slideshow": {
     "slide_type": ""
    },
    "tags": []
   },
   "outputs": [],
   "source": [
    "x = x - x.mean()\n",
    "XX = fft(x, N)\n",
    "X = 2/N * np.abs(XX[0:N//2])\n",
    "X[0] = X[0]/2"
   ]
  },
  {
   "cell_type": "markdown",
   "metadata": {
    "id": "K8duum4F1JJ9"
   },
   "source": [
    "###Частоты\n",
    "6.Соглано теореме Котельникова (Найквиста-Шеннона) Максимальная частота, которая присутствует в сигнале равна половине частоты дискретизации. $f_{max} = fd/2$\n",
    "\n",
    "Теперь правильно задачим ось частот ([0, fd/2])."
   ]
  },
  {
   "cell_type": "code",
   "execution_count": 15,
   "metadata": {
    "colab": {
     "base_uri": "https://localhost:8080/",
     "height": 447
    },
    "editable": true,
    "executionInfo": {
     "elapsed": 478,
     "status": "ok",
     "timestamp": 1710741091826,
     "user": {
      "displayName": "Оля Дунаева",
      "userId": "14179385312416715050"
     },
     "user_tz": -180
    },
    "id": "YfMo-A3R1Jel",
    "outputId": "968f73c2-762a-4212-af3a-332001c2436d",
    "slideshow": {
     "slide_type": ""
    },
    "tags": []
   },
   "outputs": [
    {
     "data": {
      "text/plain": [
       "[<matplotlib.lines.Line2D at 0x7a967af56260>]"
      ]
     },
     "execution_count": 15,
     "metadata": {},
     "output_type": "execute_result"
    },
    {
     "data": {
      "image/png": "[encoded data removed]",
      "text/plain": [
       "<Figure size 640x480 with 1 Axes>"
      ]
     },
     "metadata": {},
     "output_type": "display_data"
    }
   ],
   "source": [
    "f = np.linspace(0, Fd//2, N//2)\n",
    "plt.plot(f, X)"
   ]
  },
  {
   "cell_type": "markdown",
   "metadata": {
    "id": "l8fZ83Mx3PwD"
   },
   "source": [
    "Еще часто переходят от амплитуды к громкости в децибелах."
   ]
  },
  {
   "cell_type": "code",
   "execution_count": 10,
   "metadata": {
    "executionInfo": {
     "elapsed": 4,
     "status": "ok",
     "timestamp": 1710739532091,
     "user": {
      "displayName": "Оля Дунаева",
      "userId": "14179385312416715050"
     },
     "user_tz": -180
    },
    "id": "p_zfvbD63bjs"
   },
   "outputs": [],
   "source": [
    "# Переходим к громкости в Децебелах\n",
    "Xdb = 20*np.log10(X)"
   ]
  },
  {
   "cell_type": "code",
   "execution_count": null,
   "metadata": {
    "id": "wA30__kJ0ZQ7"
   },
   "outputs": [],
   "source": []
  }
 ],
 "metadata": {
  "colab": {
   "authorship_tag": "ABX9TyN6HgULW6jv5ctACDjsYjki",
   "provenance": [
    {
     "file_id": "1twXyeOMPTLE-Dd1Kh1y8fqt1SXmAgM06",
     "timestamp": 1710696340622
    }
   ]
  },
  "kernelspec": {
   "display_name": "Python 3 (ipykernel)",
   "language": "python",
   "name": "python3"
  },
  "language_info": {
   "codemirror_mode": {
    "name": "ipython",
    "version": 3
   },
   "file_extension": ".py",
   "mimetype": "text/x-python",
   "name": "python",
   "nbconvert_exporter": "python",
   "pygments_lexer": "ipython3",
   "version": "3.11.3"
  }
 },
 "nbformat": 4,
 "nbformat_minor": 4
}
